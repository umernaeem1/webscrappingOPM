{
 "cells": [
  {
   "cell_type": "code",
   "execution_count": 1,
   "metadata": {},
   "outputs": [],
   "source": [
    "import requests\n",
    "import pandas as pd\n",
    "from bs4 import BeautifulSoup as bs"
   ]
  },
  {
   "cell_type": "code",
   "execution_count": 81,
   "metadata": {},
   "outputs": [
    {
     "data": {
      "text/plain": [
       "117"
      ]
     },
     "execution_count": 81,
     "metadata": {},
     "output_type": "execute_result"
    }
   ],
   "source": [
    "# To get all project titles, types and IDs\n",
    "r = requests.get('https://www.devex.com/api/funding_projects?query[]=big+data&filter[statuses][]=forecast&filter[statuses][]=open&filter[updated_since]=2019-10-09T15:3A25:3A50.822Z&page[number]=1&page[size]=1000&sorting[order]=desc&sorting[field]=_score').json()\n",
    "titles = [project['title'] for project in r['data']]\n",
    "len(titles)"
   ]
  },
  {
   "cell_type": "code",
   "execution_count": 134,
   "metadata": {},
   "outputs": [],
   "source": [
    "typ = [i['type'] for i in r['data']]"
   ]
  },
  {
   "cell_type": "code",
   "execution_count": 83,
   "metadata": {},
   "outputs": [],
   "source": [
    "ids = [i['id'] for i in r['data']]\n",
    "dic = {k: v for k, v in zip(ids, typ)}"
   ]
  },
  {
   "cell_type": "code",
   "execution_count": 125,
   "metadata": {},
   "outputs": [],
   "source": [
    "ur1 = 'https://www.devex.com/funding/r?report='\n",
    "ur2 = '&query%5B%5D=big+data&filter%5Bstatuses%5D%5B%5D=forecast&filter%5Bstatuses%5D%5B%5D=open&filter%5Bupdated_since%5D=2019-10-05T15%3A33%3A00.873Z&sorting%5Border%5D=desc&sorting%5Bfield%5D=_score'\n",
    "ur3 = 'https://www.devex.com/api/funding_projects/'\n",
    "values = []\n",
    "currency = []\n",
    "\n",
    "for key, value in dic.items():\n",
    "    \n",
    "    headers = {\n",
    "        'sec-fetch-mode': 'cors',\n",
    "        'accept-encoding': 'gzip, deflate, br',\n",
    "        'accept-language': 'en-US,en;q=0.9',\n",
    "        'user-agent': 'Mozilla/5.0 (Windows NT 10.0; Win64; x64) AppleWebKit/537.36 (KHTML, like Gecko) Chrome/77.0.3865.90 Safari/537.36',\n",
    "        'accept': 'application/json, text/plain, */*',\n",
    "        'referer': ur1 + str(value) + '-' + str(key) + ur2,\n",
    "        'authority': 'www.devex.com',\n",
    "        'cookie': 'ua_session_id=316891cb735eb1cbcc7af7c3abf3677cbb07eef6c7663b911e44f1cadbd0288b; _frontend_session=f7b8269fb74f05ebbe4dbe83f2827c01; user_id=162610; _mkto_trk=id:685-KBL-765&token:_mch-devex.com-1566899164915-28576; _omappvp=GywaRnGhdiGgkr7rHZ0cLSrbK4Zs6Xrb3iTgK9AAFd6FE0pjbTSij4UGzvJJqPo256UmAOmM22n02jki7IEHMvHq8PDVlpte; __lc.visitor_id.1033507=S1566899165.d923d86feb; lc_window_state=minimized; _ga=GA1.2.1123745762.1566899196; _hjid=f1da5f31-bc81-4d57-b6bf-365704dc3179; _hjIncludedInSample=1; __zlcmid=tziUc45CqJhBPF; __atssc=google%3B1; om-793654=true; omSeen-j5kxn4sfiltaduhwocx9=1569492094826; omSeen-y7frwwzyfj36itdriidw=1569492094826; __utmc=66295099; omSeen-duobkazapnv1rmkzzn5q=1569690623285; om-duobkazapnv1rmkzzn5q=1569690625126; omSeen-oz41u8wyz0fysacpasot=1569700159557; om-oz41u8wyz0fysacpasot=1569836830528; __atuvc=0%7C37%2C0%7C38%2C4%7C39%2C2%7C40%2C3%7C41; AMP_TOKEN=%24NOT_FOUND; _gid=GA1.2.1338677366.1570893939; lc_sso1033507=1570893940657; __utmz=66295099.1570893950.10.10.utmcsr=devex.com|utmccn=(referral)|utmcmd=referral|utmcct=/funding/r; __utma=66295099.1123745762.1566899196.1570620394.1570893950.10; __utmb=66295099.5.10.1570893950; dxvisa=VCjPqfStfYK8_W0D8pOo0hlSG6pkt2bP; _dc_gtm_UA-1173244-2=1; _gat_UA-1173244-2=1',\n",
    "        'sec-fetch-site': 'same-origin',\n",
    "    }\n",
    "\n",
    "    params = (\n",
    "        ('search_query', 'big data'),\n",
    "    )\n",
    "    #print(ur1 + str(value) + '-' + str(key) + ur2)\n",
    "    #print(ur3 + str(value) + '/' + str(key))\n",
    "    response = requests.get(ur3 + str(value) + '/' + str(key), headers=headers, params=params).json()\n",
    "    #response['funding_project']['value']\n",
    "    \n",
    "    values.append(response['funding_project']['value'])\n",
    "    if response['funding_project']['currency'] == None:\n",
    "        currency.append('None')\n",
    "    else:\n",
    "        currency.append(response['funding_project']['currency']['name'])\n",
    " \n",
    "    #NB. Original query string below. It seems impossible to parse and\n",
    "    #reproduce query strings 100% accurately so the one below is given\n",
    "    #in case the reproduced version is not \"correct\".\n",
    "    # response = requests.get('https://www.devex.com/api/funding_projects/tender/365152?search_query=big+data', headers=headers)\n",
    "#values\n",
    "#currency"
   ]
  },
  {
   "cell_type": "code",
   "execution_count": 126,
   "metadata": {},
   "outputs": [],
   "source": [
    "df = pd.DataFrame(list(zip(titles,ids, typ, values, currency)),\n",
    "                 columns = ['Project_Title','Project_Code', 'Funding_Type', 'Value', 'Currency'])"
   ]
  },
  {
   "cell_type": "code",
   "execution_count": 132,
   "metadata": {},
   "outputs": [
    {
     "data": {
      "text/plain": [
       "(117, 5)"
      ]
     },
     "execution_count": 132,
     "metadata": {},
     "output_type": "execute_result"
    }
   ],
   "source": [
    "# There are 117 rows and 5 columns\n",
    "df.shape"
   ]
  },
  {
   "cell_type": "code",
   "execution_count": 133,
   "metadata": {},
   "outputs": [],
   "source": [
    "# Output as excel\n",
    "df.to_csv('Project_Devex.csv')"
   ]
  }
 ],
 "metadata": {
  "kernelspec": {
   "display_name": "Python 3",
   "language": "python",
   "name": "python3"
  },
  "language_info": {
   "codemirror_mode": {
    "name": "ipython",
    "version": 3
   },
   "file_extension": ".py",
   "mimetype": "text/x-python",
   "name": "python",
   "nbconvert_exporter": "python",
   "pygments_lexer": "ipython3",
   "version": "3.6.5"
  }
 },
 "nbformat": 4,
 "nbformat_minor": 2
}
